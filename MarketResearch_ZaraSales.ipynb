{
 "cells": [
  {
   "cell_type": "markdown",
   "id": "97e94ffd-0b56-47d4-944b-de13e1bd1e61",
   "metadata": {},
   "source": [
    "# Market Research Zara Sales"
   ]
  },
  {
   "cell_type": "code",
   "execution_count": 41,
   "id": "be84c1cd-330e-4527-9977-6ae7f3eef21b",
   "metadata": {},
   "outputs": [],
   "source": [
    "# Import Libraries\n",
    "\n",
    "import warnings\n",
    "import pandas as pd\n",
    "import numpy as np\n",
    "import matplotlib.pyplot as plt\n",
    "from sklearn.model_selection import train_test_split\n",
    "\n",
    "import seaborn as sns\n",
    "from dateutil import parser\n",
    "import time\n",
    "\n",
    "import pickle\n",
    "warnings.filterwarnings(\"ignore\")\n",
    "pd.set_option('display.max_columns', None)"
   ]
  },
  {
   "cell_type": "code",
   "execution_count": 45,
   "id": "d1f4f8bd-1a28-484b-9f87-9855c0816357",
   "metadata": {},
   "outputs": [],
   "source": [
    "# Read the dataset\n",
    "df = pd.read_csv(\"zara.csv\", sep = ';')"
   ]
  },
  {
   "cell_type": "code",
   "execution_count": 46,
   "id": "0e15e325-8326-4472-8577-2cf726e94c4f",
   "metadata": {},
   "outputs": [
    {
     "data": {
      "text/html": [
       "<div>\n",
       "<style scoped>\n",
       "    .dataframe tbody tr th:only-of-type {\n",
       "        vertical-align: middle;\n",
       "    }\n",
       "\n",
       "    .dataframe tbody tr th {\n",
       "        vertical-align: top;\n",
       "    }\n",
       "\n",
       "    .dataframe thead th {\n",
       "        text-align: right;\n",
       "    }\n",
       "</style>\n",
       "<table border=\"1\" class=\"dataframe\">\n",
       "  <thead>\n",
       "    <tr style=\"text-align: right;\">\n",
       "      <th></th>\n",
       "      <th>Product ID</th>\n",
       "      <th>Product Position</th>\n",
       "      <th>Promotion</th>\n",
       "      <th>Product Category</th>\n",
       "      <th>Seasonal</th>\n",
       "      <th>Sales Volume</th>\n",
       "      <th>brand</th>\n",
       "      <th>url</th>\n",
       "      <th>sku</th>\n",
       "      <th>name</th>\n",
       "      <th>description</th>\n",
       "      <th>price</th>\n",
       "      <th>currency</th>\n",
       "      <th>scraped_at</th>\n",
       "      <th>terms</th>\n",
       "      <th>section</th>\n",
       "    </tr>\n",
       "  </thead>\n",
       "  <tbody>\n",
       "    <tr>\n",
       "      <th>0</th>\n",
       "      <td>185102</td>\n",
       "      <td>Aisle</td>\n",
       "      <td>No</td>\n",
       "      <td>Clothing</td>\n",
       "      <td>No</td>\n",
       "      <td>2823</td>\n",
       "      <td>Zara</td>\n",
       "      <td>https://www.zara.com/us/en/basic-puffer-jacket...</td>\n",
       "      <td>272145190-250-2</td>\n",
       "      <td>BASIC PUFFER JACKET</td>\n",
       "      <td>Puffer jacket made of tear-resistant ripstop f...</td>\n",
       "      <td>19.99</td>\n",
       "      <td>USD</td>\n",
       "      <td>2024-02-19T08:50:05.654618</td>\n",
       "      <td>jackets</td>\n",
       "      <td>MAN</td>\n",
       "    </tr>\n",
       "    <tr>\n",
       "      <th>1</th>\n",
       "      <td>188771</td>\n",
       "      <td>Aisle</td>\n",
       "      <td>No</td>\n",
       "      <td>Clothing</td>\n",
       "      <td>No</td>\n",
       "      <td>654</td>\n",
       "      <td>Zara</td>\n",
       "      <td>https://www.zara.com/us/en/tuxedo-jacket-p0889...</td>\n",
       "      <td>324052738-800-46</td>\n",
       "      <td>TUXEDO JACKET</td>\n",
       "      <td>Straight fit blazer. Pointed lapel collar and ...</td>\n",
       "      <td>169.00</td>\n",
       "      <td>USD</td>\n",
       "      <td>2024-02-19T08:50:06.590930</td>\n",
       "      <td>jackets</td>\n",
       "      <td>MAN</td>\n",
       "    </tr>\n",
       "    <tr>\n",
       "      <th>2</th>\n",
       "      <td>180176</td>\n",
       "      <td>End-cap</td>\n",
       "      <td>Yes</td>\n",
       "      <td>Clothing</td>\n",
       "      <td>Yes</td>\n",
       "      <td>2220</td>\n",
       "      <td>Zara</td>\n",
       "      <td>https://www.zara.com/us/en/slim-fit-suit-jacke...</td>\n",
       "      <td>335342680-800-44</td>\n",
       "      <td>SLIM FIT SUIT JACKET</td>\n",
       "      <td>Slim fit jacket. Notched lapel collar. Long sl...</td>\n",
       "      <td>129.00</td>\n",
       "      <td>USD</td>\n",
       "      <td>2024-02-19T08:50:07.301419</td>\n",
       "      <td>jackets</td>\n",
       "      <td>MAN</td>\n",
       "    </tr>\n",
       "    <tr>\n",
       "      <th>3</th>\n",
       "      <td>112917</td>\n",
       "      <td>Aisle</td>\n",
       "      <td>Yes</td>\n",
       "      <td>Clothing</td>\n",
       "      <td>Yes</td>\n",
       "      <td>1568</td>\n",
       "      <td>Zara</td>\n",
       "      <td>https://www.zara.com/us/en/stretch-suit-jacket...</td>\n",
       "      <td>328303236-420-44</td>\n",
       "      <td>STRETCH SUIT JACKET</td>\n",
       "      <td>Slim fit jacket made of viscose blend fabric. ...</td>\n",
       "      <td>129.00</td>\n",
       "      <td>USD</td>\n",
       "      <td>2024-02-19T08:50:07.882922</td>\n",
       "      <td>jackets</td>\n",
       "      <td>MAN</td>\n",
       "    </tr>\n",
       "    <tr>\n",
       "      <th>4</th>\n",
       "      <td>192936</td>\n",
       "      <td>End-cap</td>\n",
       "      <td>No</td>\n",
       "      <td>Clothing</td>\n",
       "      <td>Yes</td>\n",
       "      <td>2942</td>\n",
       "      <td>Zara</td>\n",
       "      <td>https://www.zara.com/us/en/double-faced-jacket...</td>\n",
       "      <td>312368260-800-2</td>\n",
       "      <td>DOUBLE FACED JACKET</td>\n",
       "      <td>Jacket made of faux leather faux shearling wit...</td>\n",
       "      <td>139.00</td>\n",
       "      <td>USD</td>\n",
       "      <td>2024-02-19T08:50:08.453847</td>\n",
       "      <td>jackets</td>\n",
       "      <td>MAN</td>\n",
       "    </tr>\n",
       "    <tr>\n",
       "      <th>5</th>\n",
       "      <td>117590</td>\n",
       "      <td>End-cap</td>\n",
       "      <td>No</td>\n",
       "      <td>Clothing</td>\n",
       "      <td>No</td>\n",
       "      <td>2968</td>\n",
       "      <td>Zara</td>\n",
       "      <td>https://www.zara.com/us/en/contrasting-collar-...</td>\n",
       "      <td>320298385-807-2</td>\n",
       "      <td>CONTRASTING COLLAR JACKET</td>\n",
       "      <td>Relaxed fit jacket. Contrasting lapel collar a...</td>\n",
       "      <td>79.90</td>\n",
       "      <td>USD</td>\n",
       "      <td>2024-02-19T08:50:09.140497</td>\n",
       "      <td>jackets</td>\n",
       "      <td>MAN</td>\n",
       "    </tr>\n",
       "    <tr>\n",
       "      <th>6</th>\n",
       "      <td>189118</td>\n",
       "      <td>Front of Store</td>\n",
       "      <td>Yes</td>\n",
       "      <td>Clothing</td>\n",
       "      <td>Yes</td>\n",
       "      <td>952</td>\n",
       "      <td>Zara</td>\n",
       "      <td>https://www.zara.com/us/en/faux-leather-puffer...</td>\n",
       "      <td>278112470-800-2</td>\n",
       "      <td>FAUX LEATHER PUFFER JACKET</td>\n",
       "      <td>Faux leather puffer jacket. High collar and lo...</td>\n",
       "      <td>69.99</td>\n",
       "      <td>USD</td>\n",
       "      <td>2024-02-19T08:50:09.688951</td>\n",
       "      <td>jackets</td>\n",
       "      <td>MAN</td>\n",
       "    </tr>\n",
       "    <tr>\n",
       "      <th>7</th>\n",
       "      <td>182157</td>\n",
       "      <td>Aisle</td>\n",
       "      <td>No</td>\n",
       "      <td>Clothing</td>\n",
       "      <td>No</td>\n",
       "      <td>2421</td>\n",
       "      <td>Zara</td>\n",
       "      <td>https://www.zara.com/us/en/suit-jacket-in-100-...</td>\n",
       "      <td>322972485-431-46</td>\n",
       "      <td>SUIT JACKET IN 100% LINEN</td>\n",
       "      <td>Straight fit blazer made of linen. Notched lap...</td>\n",
       "      <td>159.00</td>\n",
       "      <td>USD</td>\n",
       "      <td>2024-02-19T08:50:10.200777</td>\n",
       "      <td>jackets</td>\n",
       "      <td>MAN</td>\n",
       "    </tr>\n",
       "    <tr>\n",
       "      <th>8</th>\n",
       "      <td>141861</td>\n",
       "      <td>Aisle</td>\n",
       "      <td>Yes</td>\n",
       "      <td>Clothing</td>\n",
       "      <td>Yes</td>\n",
       "      <td>1916</td>\n",
       "      <td>Zara</td>\n",
       "      <td>https://www.zara.com/us/en/100-wool-suit-jacke...</td>\n",
       "      <td>313854165-401-46</td>\n",
       "      <td>100% WOOL SUIT JACKET</td>\n",
       "      <td>Jacket made of Italian wool. Pointed lapel col...</td>\n",
       "      <td>169.00</td>\n",
       "      <td>USD</td>\n",
       "      <td>2024-02-19T08:50:10.880741</td>\n",
       "      <td>jackets</td>\n",
       "      <td>MAN</td>\n",
       "    </tr>\n",
       "    <tr>\n",
       "      <th>9</th>\n",
       "      <td>137121</td>\n",
       "      <td>Aisle</td>\n",
       "      <td>No</td>\n",
       "      <td>Clothing</td>\n",
       "      <td>Yes</td>\n",
       "      <td>656</td>\n",
       "      <td>Zara</td>\n",
       "      <td>https://www.zara.com/us/en/100-feather-fill-pu...</td>\n",
       "      <td>312372602-800-2</td>\n",
       "      <td>100% FEATHER FILL PUFFER JACKET</td>\n",
       "      <td>Puffer jacket made of shiny finish technical f...</td>\n",
       "      <td>169.00</td>\n",
       "      <td>USD</td>\n",
       "      <td>2024-02-19T08:50:11.380061</td>\n",
       "      <td>jackets</td>\n",
       "      <td>MAN</td>\n",
       "    </tr>\n",
       "  </tbody>\n",
       "</table>\n",
       "</div>"
      ],
      "text/plain": [
       "   Product ID Product Position Promotion Product Category Seasonal  \\\n",
       "0      185102            Aisle        No         Clothing       No   \n",
       "1      188771            Aisle        No         Clothing       No   \n",
       "2      180176          End-cap       Yes         Clothing      Yes   \n",
       "3      112917            Aisle       Yes         Clothing      Yes   \n",
       "4      192936          End-cap        No         Clothing      Yes   \n",
       "5      117590          End-cap        No         Clothing       No   \n",
       "6      189118   Front of Store       Yes         Clothing      Yes   \n",
       "7      182157            Aisle        No         Clothing       No   \n",
       "8      141861            Aisle       Yes         Clothing      Yes   \n",
       "9      137121            Aisle        No         Clothing      Yes   \n",
       "\n",
       "   Sales Volume brand                                                url  \\\n",
       "0          2823  Zara  https://www.zara.com/us/en/basic-puffer-jacket...   \n",
       "1           654  Zara  https://www.zara.com/us/en/tuxedo-jacket-p0889...   \n",
       "2          2220  Zara  https://www.zara.com/us/en/slim-fit-suit-jacke...   \n",
       "3          1568  Zara  https://www.zara.com/us/en/stretch-suit-jacket...   \n",
       "4          2942  Zara  https://www.zara.com/us/en/double-faced-jacket...   \n",
       "5          2968  Zara  https://www.zara.com/us/en/contrasting-collar-...   \n",
       "6           952  Zara  https://www.zara.com/us/en/faux-leather-puffer...   \n",
       "7          2421  Zara  https://www.zara.com/us/en/suit-jacket-in-100-...   \n",
       "8          1916  Zara  https://www.zara.com/us/en/100-wool-suit-jacke...   \n",
       "9           656  Zara  https://www.zara.com/us/en/100-feather-fill-pu...   \n",
       "\n",
       "                sku                             name  \\\n",
       "0   272145190-250-2              BASIC PUFFER JACKET   \n",
       "1  324052738-800-46                    TUXEDO JACKET   \n",
       "2  335342680-800-44             SLIM FIT SUIT JACKET   \n",
       "3  328303236-420-44              STRETCH SUIT JACKET   \n",
       "4   312368260-800-2              DOUBLE FACED JACKET   \n",
       "5   320298385-807-2        CONTRASTING COLLAR JACKET   \n",
       "6   278112470-800-2       FAUX LEATHER PUFFER JACKET   \n",
       "7  322972485-431-46        SUIT JACKET IN 100% LINEN   \n",
       "8  313854165-401-46            100% WOOL SUIT JACKET   \n",
       "9   312372602-800-2  100% FEATHER FILL PUFFER JACKET   \n",
       "\n",
       "                                         description   price currency  \\\n",
       "0  Puffer jacket made of tear-resistant ripstop f...   19.99      USD   \n",
       "1  Straight fit blazer. Pointed lapel collar and ...  169.00      USD   \n",
       "2  Slim fit jacket. Notched lapel collar. Long sl...  129.00      USD   \n",
       "3  Slim fit jacket made of viscose blend fabric. ...  129.00      USD   \n",
       "4  Jacket made of faux leather faux shearling wit...  139.00      USD   \n",
       "5  Relaxed fit jacket. Contrasting lapel collar a...   79.90      USD   \n",
       "6  Faux leather puffer jacket. High collar and lo...   69.99      USD   \n",
       "7  Straight fit blazer made of linen. Notched lap...  159.00      USD   \n",
       "8  Jacket made of Italian wool. Pointed lapel col...  169.00      USD   \n",
       "9  Puffer jacket made of shiny finish technical f...  169.00      USD   \n",
       "\n",
       "                   scraped_at    terms section  \n",
       "0  2024-02-19T08:50:05.654618  jackets     MAN  \n",
       "1  2024-02-19T08:50:06.590930  jackets     MAN  \n",
       "2  2024-02-19T08:50:07.301419  jackets     MAN  \n",
       "3  2024-02-19T08:50:07.882922  jackets     MAN  \n",
       "4  2024-02-19T08:50:08.453847  jackets     MAN  \n",
       "5  2024-02-19T08:50:09.140497  jackets     MAN  \n",
       "6  2024-02-19T08:50:09.688951  jackets     MAN  \n",
       "7  2024-02-19T08:50:10.200777  jackets     MAN  \n",
       "8  2024-02-19T08:50:10.880741  jackets     MAN  \n",
       "9  2024-02-19T08:50:11.380061  jackets     MAN  "
      ]
     },
     "execution_count": 46,
     "metadata": {},
     "output_type": "execute_result"
    }
   ],
   "source": [
    "df.head(10)"
   ]
  },
  {
   "cell_type": "code",
   "execution_count": null,
   "id": "a219f38c-f0cf-48cd-ab54-bab2911b83d5",
   "metadata": {},
   "outputs": [],
   "source": [
    "# Dropping few columns which we think are not required"
   ]
  },
  {
   "cell_type": "code",
   "execution_count": 47,
   "id": "556c353d-be63-4b38-bfef-1f0d3323f8f1",
   "metadata": {},
   "outputs": [],
   "source": [
    "zara_sales_df = df.drop(columns=['brand', 'url', 'sku','description','scraped_at'])"
   ]
  },
  {
   "cell_type": "code",
   "execution_count": 49,
   "id": "6b55b37a-15b8-4b13-b7a1-f24a7c580a5a",
   "metadata": {},
   "outputs": [
    {
     "data": {
      "text/html": [
       "<div>\n",
       "<style scoped>\n",
       "    .dataframe tbody tr th:only-of-type {\n",
       "        vertical-align: middle;\n",
       "    }\n",
       "\n",
       "    .dataframe tbody tr th {\n",
       "        vertical-align: top;\n",
       "    }\n",
       "\n",
       "    .dataframe thead th {\n",
       "        text-align: right;\n",
       "    }\n",
       "</style>\n",
       "<table border=\"1\" class=\"dataframe\">\n",
       "  <thead>\n",
       "    <tr style=\"text-align: right;\">\n",
       "      <th></th>\n",
       "      <th>Product ID</th>\n",
       "      <th>Product Position</th>\n",
       "      <th>Promotion</th>\n",
       "      <th>Product Category</th>\n",
       "      <th>Seasonal</th>\n",
       "      <th>Sales Volume</th>\n",
       "      <th>name</th>\n",
       "      <th>price</th>\n",
       "      <th>currency</th>\n",
       "      <th>terms</th>\n",
       "      <th>section</th>\n",
       "    </tr>\n",
       "  </thead>\n",
       "  <tbody>\n",
       "    <tr>\n",
       "      <th>0</th>\n",
       "      <td>185102</td>\n",
       "      <td>Aisle</td>\n",
       "      <td>No</td>\n",
       "      <td>Clothing</td>\n",
       "      <td>No</td>\n",
       "      <td>2823</td>\n",
       "      <td>BASIC PUFFER JACKET</td>\n",
       "      <td>19.99</td>\n",
       "      <td>USD</td>\n",
       "      <td>jackets</td>\n",
       "      <td>MAN</td>\n",
       "    </tr>\n",
       "    <tr>\n",
       "      <th>1</th>\n",
       "      <td>188771</td>\n",
       "      <td>Aisle</td>\n",
       "      <td>No</td>\n",
       "      <td>Clothing</td>\n",
       "      <td>No</td>\n",
       "      <td>654</td>\n",
       "      <td>TUXEDO JACKET</td>\n",
       "      <td>169.00</td>\n",
       "      <td>USD</td>\n",
       "      <td>jackets</td>\n",
       "      <td>MAN</td>\n",
       "    </tr>\n",
       "    <tr>\n",
       "      <th>2</th>\n",
       "      <td>180176</td>\n",
       "      <td>End-cap</td>\n",
       "      <td>Yes</td>\n",
       "      <td>Clothing</td>\n",
       "      <td>Yes</td>\n",
       "      <td>2220</td>\n",
       "      <td>SLIM FIT SUIT JACKET</td>\n",
       "      <td>129.00</td>\n",
       "      <td>USD</td>\n",
       "      <td>jackets</td>\n",
       "      <td>MAN</td>\n",
       "    </tr>\n",
       "    <tr>\n",
       "      <th>3</th>\n",
       "      <td>112917</td>\n",
       "      <td>Aisle</td>\n",
       "      <td>Yes</td>\n",
       "      <td>Clothing</td>\n",
       "      <td>Yes</td>\n",
       "      <td>1568</td>\n",
       "      <td>STRETCH SUIT JACKET</td>\n",
       "      <td>129.00</td>\n",
       "      <td>USD</td>\n",
       "      <td>jackets</td>\n",
       "      <td>MAN</td>\n",
       "    </tr>\n",
       "    <tr>\n",
       "      <th>4</th>\n",
       "      <td>192936</td>\n",
       "      <td>End-cap</td>\n",
       "      <td>No</td>\n",
       "      <td>Clothing</td>\n",
       "      <td>Yes</td>\n",
       "      <td>2942</td>\n",
       "      <td>DOUBLE FACED JACKET</td>\n",
       "      <td>139.00</td>\n",
       "      <td>USD</td>\n",
       "      <td>jackets</td>\n",
       "      <td>MAN</td>\n",
       "    </tr>\n",
       "  </tbody>\n",
       "</table>\n",
       "</div>"
      ],
      "text/plain": [
       "   Product ID Product Position Promotion Product Category Seasonal  \\\n",
       "0      185102            Aisle        No         Clothing       No   \n",
       "1      188771            Aisle        No         Clothing       No   \n",
       "2      180176          End-cap       Yes         Clothing      Yes   \n",
       "3      112917            Aisle       Yes         Clothing      Yes   \n",
       "4      192936          End-cap        No         Clothing      Yes   \n",
       "\n",
       "   Sales Volume                  name   price currency    terms section  \n",
       "0          2823   BASIC PUFFER JACKET   19.99      USD  jackets     MAN  \n",
       "1           654         TUXEDO JACKET  169.00      USD  jackets     MAN  \n",
       "2          2220  SLIM FIT SUIT JACKET  129.00      USD  jackets     MAN  \n",
       "3          1568   STRETCH SUIT JACKET  129.00      USD  jackets     MAN  \n",
       "4          2942   DOUBLE FACED JACKET  139.00      USD  jackets     MAN  "
      ]
     },
     "execution_count": 49,
     "metadata": {},
     "output_type": "execute_result"
    }
   ],
   "source": [
    "zara_sales_df.head()"
   ]
  },
  {
   "cell_type": "code",
   "execution_count": null,
   "id": "82ab816b-3d40-4174-b909-964453718b84",
   "metadata": {},
   "outputs": [],
   "source": [
    "UNDERSTANDING DATA\n",
    "\n",
    "Product ID: Unique id for each product.\n",
    "\n",
    "Product Position: The position of the product in the catalog or store layout.\n",
    "\n",
    "Promotion: INdicates if the product is pomoted or not\n",
    "\n",
    "Product Category: The category is clothing as Zara is a clothing Brand\n",
    "\n",
    "Seasonal: Indicator of whether the product is part of a specific seasonal collection.\n",
    "\n",
    "Sales Volume: The quantity of products sold.\n",
    "\n",
    "Brand: Brand is Zara\n",
    "\n",
    "URL: Product URL (e.g., if the product is sold online).\n",
    "\n",
    "SKU: Stock Keeping Unit, a unique code used to identify items available for sale.\n",
    "\n",
    "UNDERSTANDING DATA\n",
    "\n",
    "Product ID: Unique id for each product.\n",
    "\n",
    "Product Position: The position of the product in the catalog or store layout.\n",
    "\n",
    "Promotion: INdicates if the product is pomoted or not\n",
    "\n",
    "Product Category: The category is clothing as Zara is a clothing Brand\n",
    "\n",
    "Seasonal: Indicator of whether the product is part of a specific seasonal collection.\n",
    "\n",
    "Sales Volume: The quantity of products sold.\n",
    "\n",
    "Brand: Brand is Zara\n",
    "\n",
    "URL: Product URL (e.g., if the product is sold online).\n",
    "\n",
    "SKU: Stock Keeping Unit, a unique code used to identify items available for sale.\n",
    "\n",
    "Name: Name of the product.\n",
    "\n",
    "Description: Description of the product.\n",
    "\n",
    "Price: Price of the product.\n",
    "\n",
    "Currency: Currency is USD\n",
    "\n",
    "Scraped_at: The time when the data was scraped (e.g., in web scraping process).\n",
    "\n",
    "Terms: Type pf clothing like jacke\n",
    "\n",
    "Section: Indicates the Section e.g., women's clothing, men's clothing"
   ]
  },
  {
   "cell_type": "markdown",
   "id": "d2618a7d-ee1d-44c0-8080-c27fd78dc7c1",
   "metadata": {},
   "source": [
    "# EDA"
   ]
  },
  {
   "cell_type": "code",
   "execution_count": 50,
   "id": "44ddb297-c088-4975-a464-35059856d0dc",
   "metadata": {},
   "outputs": [
    {
     "data": {
      "text/plain": [
       "(252, 11)"
      ]
     },
     "execution_count": 50,
     "metadata": {},
     "output_type": "execute_result"
    }
   ],
   "source": [
    "# Check the number of rows and number of columns in a dataset\n",
    "zara_sales_df.shape"
   ]
  },
  {
   "cell_type": "code",
   "execution_count": 55,
   "id": "53f856d4-9b9d-4a82-9c9c-beabadbda027",
   "metadata": {},
   "outputs": [],
   "source": [
    "#renaming few columns to a proper format\n",
    "zara_sales_df.rename(columns={'Sales Volume': 'sales_volume'}, inplace=True)\n",
    "zara_sales_df.rename(columns={'Product ID': 'product_id'}, inplace=True)\n",
    "zara_sales_df.rename(columns={'Product Position': 'product_position'}, inplace=True)\n",
    "zara_sales_df.rename(columns={'Promottion': 'promotion'}, inplace=True)\n",
    "zara_sales_df.rename(columns={'Product Category': 'product_category'}, inplace=True)\n",
    "zara_sales_df.rename(columns={'Seasonal': 'seasonal'}, inplace=True)\n",
    "zara_sales_df.rename(columns={'terms': 'product_type'}, inplace=True)"
   ]
  },
  {
   "cell_type": "code",
   "execution_count": 56,
   "id": "5b3daf49-161c-4295-bd35-597989246d54",
   "metadata": {},
   "outputs": [
    {
     "data": {
      "text/html": [
       "<div>\n",
       "<style scoped>\n",
       "    .dataframe tbody tr th:only-of-type {\n",
       "        vertical-align: middle;\n",
       "    }\n",
       "\n",
       "    .dataframe tbody tr th {\n",
       "        vertical-align: top;\n",
       "    }\n",
       "\n",
       "    .dataframe thead th {\n",
       "        text-align: right;\n",
       "    }\n",
       "</style>\n",
       "<table border=\"1\" class=\"dataframe\">\n",
       "  <thead>\n",
       "    <tr style=\"text-align: right;\">\n",
       "      <th></th>\n",
       "      <th>product_id</th>\n",
       "      <th>product_position</th>\n",
       "      <th>Promotion</th>\n",
       "      <th>product_category</th>\n",
       "      <th>seasonal</th>\n",
       "      <th>sales_volume</th>\n",
       "      <th>name</th>\n",
       "      <th>price</th>\n",
       "      <th>currency</th>\n",
       "      <th>product_type</th>\n",
       "      <th>section</th>\n",
       "    </tr>\n",
       "  </thead>\n",
       "  <tbody>\n",
       "    <tr>\n",
       "      <th>0</th>\n",
       "      <td>185102</td>\n",
       "      <td>Aisle</td>\n",
       "      <td>No</td>\n",
       "      <td>Clothing</td>\n",
       "      <td>No</td>\n",
       "      <td>2823</td>\n",
       "      <td>BASIC PUFFER JACKET</td>\n",
       "      <td>19.99</td>\n",
       "      <td>USD</td>\n",
       "      <td>jackets</td>\n",
       "      <td>MAN</td>\n",
       "    </tr>\n",
       "    <tr>\n",
       "      <th>1</th>\n",
       "      <td>188771</td>\n",
       "      <td>Aisle</td>\n",
       "      <td>No</td>\n",
       "      <td>Clothing</td>\n",
       "      <td>No</td>\n",
       "      <td>654</td>\n",
       "      <td>TUXEDO JACKET</td>\n",
       "      <td>169.00</td>\n",
       "      <td>USD</td>\n",
       "      <td>jackets</td>\n",
       "      <td>MAN</td>\n",
       "    </tr>\n",
       "    <tr>\n",
       "      <th>2</th>\n",
       "      <td>180176</td>\n",
       "      <td>End-cap</td>\n",
       "      <td>Yes</td>\n",
       "      <td>Clothing</td>\n",
       "      <td>Yes</td>\n",
       "      <td>2220</td>\n",
       "      <td>SLIM FIT SUIT JACKET</td>\n",
       "      <td>129.00</td>\n",
       "      <td>USD</td>\n",
       "      <td>jackets</td>\n",
       "      <td>MAN</td>\n",
       "    </tr>\n",
       "    <tr>\n",
       "      <th>3</th>\n",
       "      <td>112917</td>\n",
       "      <td>Aisle</td>\n",
       "      <td>Yes</td>\n",
       "      <td>Clothing</td>\n",
       "      <td>Yes</td>\n",
       "      <td>1568</td>\n",
       "      <td>STRETCH SUIT JACKET</td>\n",
       "      <td>129.00</td>\n",
       "      <td>USD</td>\n",
       "      <td>jackets</td>\n",
       "      <td>MAN</td>\n",
       "    </tr>\n",
       "    <tr>\n",
       "      <th>4</th>\n",
       "      <td>192936</td>\n",
       "      <td>End-cap</td>\n",
       "      <td>No</td>\n",
       "      <td>Clothing</td>\n",
       "      <td>Yes</td>\n",
       "      <td>2942</td>\n",
       "      <td>DOUBLE FACED JACKET</td>\n",
       "      <td>139.00</td>\n",
       "      <td>USD</td>\n",
       "      <td>jackets</td>\n",
       "      <td>MAN</td>\n",
       "    </tr>\n",
       "  </tbody>\n",
       "</table>\n",
       "</div>"
      ],
      "text/plain": [
       "   product_id product_position Promotion product_category seasonal  \\\n",
       "0      185102            Aisle        No         Clothing       No   \n",
       "1      188771            Aisle        No         Clothing       No   \n",
       "2      180176          End-cap       Yes         Clothing      Yes   \n",
       "3      112917            Aisle       Yes         Clothing      Yes   \n",
       "4      192936          End-cap        No         Clothing      Yes   \n",
       "\n",
       "   sales_volume                  name   price currency product_type section  \n",
       "0          2823   BASIC PUFFER JACKET   19.99      USD      jackets     MAN  \n",
       "1           654         TUXEDO JACKET  169.00      USD      jackets     MAN  \n",
       "2          2220  SLIM FIT SUIT JACKET  129.00      USD      jackets     MAN  \n",
       "3          1568   STRETCH SUIT JACKET  129.00      USD      jackets     MAN  \n",
       "4          2942   DOUBLE FACED JACKET  139.00      USD      jackets     MAN  "
      ]
     },
     "execution_count": 56,
     "metadata": {},
     "output_type": "execute_result"
    }
   ],
   "source": [
    "zara_sales_df.head()"
   ]
  },
  {
   "cell_type": "code",
   "execution_count": 51,
   "id": "d25bd144-00df-4589-bce4-4eb330a8f613",
   "metadata": {},
   "outputs": [
    {
     "data": {
      "text/plain": [
       "Product ID            int64\n",
       "Product Position     object\n",
       "Promotion            object\n",
       "Product Category     object\n",
       "Seasonal             object\n",
       "Sales Volume          int64\n",
       "name                 object\n",
       "price               float64\n",
       "currency             object\n",
       "terms                object\n",
       "section              object\n",
       "dtype: object"
      ]
     },
     "execution_count": 51,
     "metadata": {},
     "output_type": "execute_result"
    }
   ],
   "source": [
    "# Check the data types\n",
    "zara_sales_df.dtypes"
   ]
  },
  {
   "cell_type": "code",
   "execution_count": 59,
   "id": "c3fa25a6-f1a7-4678-ab98-07c7e3b58d3f",
   "metadata": {},
   "outputs": [
    {
     "name": "stdout",
     "output_type": "stream",
     "text": [
      "<class 'pandas.core.frame.DataFrame'>\n",
      "RangeIndex: 252 entries, 0 to 251\n",
      "Data columns (total 11 columns):\n",
      " #   Column            Non-Null Count  Dtype  \n",
      "---  ------            --------------  -----  \n",
      " 0   product_id        252 non-null    int64  \n",
      " 1   product_position  252 non-null    object \n",
      " 2   Promotion         252 non-null    object \n",
      " 3   product_category  252 non-null    object \n",
      " 4   seasonal          252 non-null    object \n",
      " 5   sales_volume      252 non-null    int64  \n",
      " 6   name              251 non-null    object \n",
      " 7   price             252 non-null    float64\n",
      " 8   currency          252 non-null    object \n",
      " 9   product_type      252 non-null    object \n",
      " 10  section           252 non-null    object \n",
      "dtypes: float64(1), int64(2), object(8)\n",
      "memory usage: 21.8+ KB\n"
     ]
    }
   ],
   "source": [
    "zara_sales_df.info()"
   ]
  },
  {
   "cell_type": "code",
   "execution_count": 38,
   "id": "8aa0e0d3-beb3-4fa5-84af-1ba3dd1fbd4c",
   "metadata": {},
   "outputs": [
    {
     "data": {
      "text/html": [
       "<div>\n",
       "<style scoped>\n",
       "    .dataframe tbody tr th:only-of-type {\n",
       "        vertical-align: middle;\n",
       "    }\n",
       "\n",
       "    .dataframe tbody tr th {\n",
       "        vertical-align: top;\n",
       "    }\n",
       "\n",
       "    .dataframe thead th {\n",
       "        text-align: right;\n",
       "    }\n",
       "</style>\n",
       "<table border=\"1\" class=\"dataframe\">\n",
       "  <thead>\n",
       "    <tr style=\"text-align: right;\">\n",
       "      <th></th>\n",
       "      <th>price</th>\n",
       "      <th>Sales Volume</th>\n",
       "    </tr>\n",
       "  </thead>\n",
       "  <tbody>\n",
       "    <tr>\n",
       "      <th>count</th>\n",
       "      <td>252.000000</td>\n",
       "      <td>252.000000</td>\n",
       "    </tr>\n",
       "    <tr>\n",
       "      <th>mean</th>\n",
       "      <td>86.252540</td>\n",
       "      <td>1823.702381</td>\n",
       "    </tr>\n",
       "    <tr>\n",
       "      <th>std</th>\n",
       "      <td>52.083205</td>\n",
       "      <td>697.703748</td>\n",
       "    </tr>\n",
       "    <tr>\n",
       "      <th>min</th>\n",
       "      <td>7.990000</td>\n",
       "      <td>529.000000</td>\n",
       "    </tr>\n",
       "    <tr>\n",
       "      <th>25%</th>\n",
       "      <td>49.900000</td>\n",
       "      <td>1243.000000</td>\n",
       "    </tr>\n",
       "    <tr>\n",
       "      <th>50%</th>\n",
       "      <td>79.900000</td>\n",
       "      <td>1839.500000</td>\n",
       "    </tr>\n",
       "    <tr>\n",
       "      <th>75%</th>\n",
       "      <td>109.000000</td>\n",
       "      <td>2398.750000</td>\n",
       "    </tr>\n",
       "    <tr>\n",
       "      <th>max</th>\n",
       "      <td>439.000000</td>\n",
       "      <td>2989.000000</td>\n",
       "    </tr>\n",
       "  </tbody>\n",
       "</table>\n",
       "</div>"
      ],
      "text/plain": [
       "            price  Sales Volume\n",
       "count  252.000000    252.000000\n",
       "mean    86.252540   1823.702381\n",
       "std     52.083205    697.703748\n",
       "min      7.990000    529.000000\n",
       "25%     49.900000   1243.000000\n",
       "50%     79.900000   1839.500000\n",
       "75%    109.000000   2398.750000\n",
       "max    439.000000   2989.000000"
      ]
     },
     "execution_count": 38,
     "metadata": {},
     "output_type": "execute_result"
    }
   ],
   "source": [
    "# Check the distribution of numerical columns\n",
    "zara_sales_df[[\"price\", \"Sales Volume\"]].describe()"
   ]
  },
  {
   "cell_type": "code",
   "execution_count": 60,
   "id": "09283447-177b-4542-9f8c-bd6c2304150a",
   "metadata": {},
   "outputs": [
    {
     "data": {
      "text/plain": [
       "product_id          0\n",
       "product_position    0\n",
       "Promotion           0\n",
       "product_category    0\n",
       "seasonal            0\n",
       "sales_volume        0\n",
       "name                1\n",
       "price               0\n",
       "currency            0\n",
       "product_type        0\n",
       "section             0\n",
       "dtype: int64"
      ]
     },
     "execution_count": 60,
     "metadata": {},
     "output_type": "execute_result"
    }
   ],
   "source": [
    "# Check for the null values\n",
    "zara_sales_df.isna().sum()"
   ]
  },
  {
   "cell_type": "code",
   "execution_count": 63,
   "id": "b947d546-d998-47e6-aa60-5130aa7f41c8",
   "metadata": {},
   "outputs": [],
   "source": [
    "#Remove the row with a null value\n",
    "zara_sales_df=zara_sales_df.dropna(subset= ['name'])      "
   ]
  },
  {
   "cell_type": "code",
   "execution_count": 64,
   "id": "e0edb449-b1fd-430b-9414-755f5b5933f8",
   "metadata": {},
   "outputs": [
    {
     "data": {
      "text/plain": [
       "product_id          0\n",
       "product_position    0\n",
       "Promotion           0\n",
       "product_category    0\n",
       "seasonal            0\n",
       "sales_volume        0\n",
       "name                0\n",
       "price               0\n",
       "currency            0\n",
       "product_type        0\n",
       "section             0\n",
       "dtype: int64"
      ]
     },
     "execution_count": 64,
     "metadata": {},
     "output_type": "execute_result"
    }
   ],
   "source": [
    "zara_sales_df.isna().sum()"
   ]
  },
  {
   "cell_type": "code",
   "execution_count": 65,
   "id": "b427b276-a214-46f2-b10b-f5a535f51934",
   "metadata": {},
   "outputs": [
    {
     "data": {
      "text/plain": [
       "0"
      ]
     },
     "execution_count": 65,
     "metadata": {},
     "output_type": "execute_result"
    }
   ],
   "source": [
    "# Check for the duplicated values\n",
    "zara_sales_df.duplicated().sum()"
   ]
  },
  {
   "cell_type": "code",
   "execution_count": 37,
   "id": "771a1a0f-fa5c-445e-b702-5a8861cb4fac",
   "metadata": {},
   "outputs": [],
   "source": [
    "# We dont have any duplicated values\n",
    "# But we have got one null value and we dropped that row."
   ]
  },
  {
   "cell_type": "code",
   "execution_count": 66,
   "id": "762365ff-dae4-4d79-a623-0b2d47131b7d",
   "metadata": {},
   "outputs": [
    {
     "data": {
      "text/plain": [
       "(251, 11)"
      ]
     },
     "execution_count": 66,
     "metadata": {},
     "output_type": "execute_result"
    }
   ],
   "source": [
    "zara_sales_df.shape"
   ]
  },
  {
   "cell_type": "code",
   "execution_count": null,
   "id": "51a9eda3-1844-4d0f-bd27-74bc76f00cc5",
   "metadata": {},
   "outputs": [],
   "source": []
  },
  {
   "cell_type": "code",
   "execution_count": 68,
   "id": "8b980330-f1cd-4674-b0f1-1ad09d331b21",
   "metadata": {},
   "outputs": [],
   "source": [
    "# Adding 'Total_Price' as new column by multiplying 'sales_volume'  and 'price' which would give us \n",
    "#the total revenue generated for that particulare 'product_category'\n",
    "zara_sales_df['total_price'] = zara_sales_df['price'] * zara_sales_df['sales_volume']"
   ]
  },
  {
   "cell_type": "code",
   "execution_count": 69,
   "id": "3c74f1a7-ef4e-4960-979f-c285a18e5323",
   "metadata": {},
   "outputs": [
    {
     "data": {
      "text/html": [
       "<div>\n",
       "<style scoped>\n",
       "    .dataframe tbody tr th:only-of-type {\n",
       "        vertical-align: middle;\n",
       "    }\n",
       "\n",
       "    .dataframe tbody tr th {\n",
       "        vertical-align: top;\n",
       "    }\n",
       "\n",
       "    .dataframe thead th {\n",
       "        text-align: right;\n",
       "    }\n",
       "</style>\n",
       "<table border=\"1\" class=\"dataframe\">\n",
       "  <thead>\n",
       "    <tr style=\"text-align: right;\">\n",
       "      <th></th>\n",
       "      <th>product_id</th>\n",
       "      <th>product_position</th>\n",
       "      <th>Promotion</th>\n",
       "      <th>product_category</th>\n",
       "      <th>seasonal</th>\n",
       "      <th>sales_volume</th>\n",
       "      <th>name</th>\n",
       "      <th>price</th>\n",
       "      <th>currency</th>\n",
       "      <th>product_type</th>\n",
       "      <th>section</th>\n",
       "      <th>total_price</th>\n",
       "    </tr>\n",
       "  </thead>\n",
       "  <tbody>\n",
       "    <tr>\n",
       "      <th>0</th>\n",
       "      <td>185102</td>\n",
       "      <td>Aisle</td>\n",
       "      <td>No</td>\n",
       "      <td>Clothing</td>\n",
       "      <td>No</td>\n",
       "      <td>2823</td>\n",
       "      <td>BASIC PUFFER JACKET</td>\n",
       "      <td>19.99</td>\n",
       "      <td>USD</td>\n",
       "      <td>jackets</td>\n",
       "      <td>MAN</td>\n",
       "      <td>56431.77</td>\n",
       "    </tr>\n",
       "    <tr>\n",
       "      <th>1</th>\n",
       "      <td>188771</td>\n",
       "      <td>Aisle</td>\n",
       "      <td>No</td>\n",
       "      <td>Clothing</td>\n",
       "      <td>No</td>\n",
       "      <td>654</td>\n",
       "      <td>TUXEDO JACKET</td>\n",
       "      <td>169.00</td>\n",
       "      <td>USD</td>\n",
       "      <td>jackets</td>\n",
       "      <td>MAN</td>\n",
       "      <td>110526.00</td>\n",
       "    </tr>\n",
       "    <tr>\n",
       "      <th>2</th>\n",
       "      <td>180176</td>\n",
       "      <td>End-cap</td>\n",
       "      <td>Yes</td>\n",
       "      <td>Clothing</td>\n",
       "      <td>Yes</td>\n",
       "      <td>2220</td>\n",
       "      <td>SLIM FIT SUIT JACKET</td>\n",
       "      <td>129.00</td>\n",
       "      <td>USD</td>\n",
       "      <td>jackets</td>\n",
       "      <td>MAN</td>\n",
       "      <td>286380.00</td>\n",
       "    </tr>\n",
       "    <tr>\n",
       "      <th>3</th>\n",
       "      <td>112917</td>\n",
       "      <td>Aisle</td>\n",
       "      <td>Yes</td>\n",
       "      <td>Clothing</td>\n",
       "      <td>Yes</td>\n",
       "      <td>1568</td>\n",
       "      <td>STRETCH SUIT JACKET</td>\n",
       "      <td>129.00</td>\n",
       "      <td>USD</td>\n",
       "      <td>jackets</td>\n",
       "      <td>MAN</td>\n",
       "      <td>202272.00</td>\n",
       "    </tr>\n",
       "    <tr>\n",
       "      <th>4</th>\n",
       "      <td>192936</td>\n",
       "      <td>End-cap</td>\n",
       "      <td>No</td>\n",
       "      <td>Clothing</td>\n",
       "      <td>Yes</td>\n",
       "      <td>2942</td>\n",
       "      <td>DOUBLE FACED JACKET</td>\n",
       "      <td>139.00</td>\n",
       "      <td>USD</td>\n",
       "      <td>jackets</td>\n",
       "      <td>MAN</td>\n",
       "      <td>408938.00</td>\n",
       "    </tr>\n",
       "  </tbody>\n",
       "</table>\n",
       "</div>"
      ],
      "text/plain": [
       "   product_id product_position Promotion product_category seasonal  \\\n",
       "0      185102            Aisle        No         Clothing       No   \n",
       "1      188771            Aisle        No         Clothing       No   \n",
       "2      180176          End-cap       Yes         Clothing      Yes   \n",
       "3      112917            Aisle       Yes         Clothing      Yes   \n",
       "4      192936          End-cap        No         Clothing      Yes   \n",
       "\n",
       "   sales_volume                  name   price currency product_type section  \\\n",
       "0          2823   BASIC PUFFER JACKET   19.99      USD      jackets     MAN   \n",
       "1           654         TUXEDO JACKET  169.00      USD      jackets     MAN   \n",
       "2          2220  SLIM FIT SUIT JACKET  129.00      USD      jackets     MAN   \n",
       "3          1568   STRETCH SUIT JACKET  129.00      USD      jackets     MAN   \n",
       "4          2942   DOUBLE FACED JACKET  139.00      USD      jackets     MAN   \n",
       "\n",
       "   total_price  \n",
       "0     56431.77  \n",
       "1    110526.00  \n",
       "2    286380.00  \n",
       "3    202272.00  \n",
       "4    408938.00  "
      ]
     },
     "execution_count": 69,
     "metadata": {},
     "output_type": "execute_result"
    }
   ],
   "source": [
    "zara_sales_df.head()"
   ]
  },
  {
   "cell_type": "markdown",
   "id": "3b546f1b-c281-4147-9880-56004ea7ae95",
   "metadata": {},
   "source": [
    "# Check the distribution of Price and Sales Volume "
   ]
  },
  {
   "cell_type": "code",
   "execution_count": 70,
   "id": "2987a852-7baf-45f8-b631-9527911b7088",
   "metadata": {},
   "outputs": [
    {
     "data": {
      "image/png": "[encoded data removed]",
      "text/plain": [
       "<Figure size 1600x500 with 2 Axes>"
      ]
     },
     "metadata": {},
     "output_type": "display_data"
    }
   ],
   "source": [
    "# Price distribution:\n",
    "fig, axs = plt.subplots(1,2,figsize=(16,5), gridspec_kw={'wspace': 0.1})\n",
    "sns.histplot(zara_sales_df['price'], ax = axs[0])\n",
    "sns.boxplot(x = zara_sales_df['price'], ax = axs[1])\n",
    "plt.show() "
   ]
  },
  {
   "cell_type": "code",
   "execution_count": 73,
   "id": "f8d63d4d-98a0-454b-b84a-a446b30e7e08",
   "metadata": {},
   "outputs": [
    {
     "data": {
      "image/png": "[encoded data removed]",
      "text/plain": [
       "<Figure size 1600x500 with 2 Axes>"
      ]
     },
     "metadata": {},
     "output_type": "display_data"
    }
   ],
   "source": [
    "# Sales Volume distribution:\n",
    "fig, axs = plt.subplots(1,2,figsize=(16,5), gridspec_kw={'wspace': 0.1})\n",
    "sns.histplot(zara_sales_df['sales_volume'], ax = axs[0])\n",
    "sns.boxplot(x = zara_sales_df['sales_volume'], ax = axs[1])\n",
    "plt.show() "
   ]
  },
  {
   "cell_type": "markdown",
   "id": "e40372f3-b45d-40f0-ab8d-763248ea0e73",
   "metadata": {},
   "source": [
    "1. Analysing which section of the store (men's or women's section) influence the most of the sales at store?"
   ]
  },
  {
   "cell_type": "code",
   "execution_count": 83,
   "id": "c7a16977-1a55-45c6-99aa-c9b04b32c3b5",
   "metadata": {},
   "outputs": [
    {
     "data": {
      "text/html": [
       "<div>\n",
       "<style scoped>\n",
       "    .dataframe tbody tr th:only-of-type {\n",
       "        vertical-align: middle;\n",
       "    }\n",
       "\n",
       "    .dataframe tbody tr th {\n",
       "        vertical-align: top;\n",
       "    }\n",
       "\n",
       "    .dataframe thead th {\n",
       "        text-align: right;\n",
       "    }\n",
       "</style>\n",
       "<table border=\"1\" class=\"dataframe\">\n",
       "  <thead>\n",
       "    <tr style=\"text-align: right;\">\n",
       "      <th></th>\n",
       "      <th>product_id</th>\n",
       "      <th>product_position</th>\n",
       "      <th>Promotion</th>\n",
       "      <th>product_category</th>\n",
       "      <th>seasonal</th>\n",
       "      <th>sales_volume</th>\n",
       "      <th>name</th>\n",
       "      <th>price</th>\n",
       "      <th>currency</th>\n",
       "      <th>product_type</th>\n",
       "      <th>section</th>\n",
       "      <th>total_price</th>\n",
       "    </tr>\n",
       "  </thead>\n",
       "  <tbody>\n",
       "    <tr>\n",
       "      <th>0</th>\n",
       "      <td>185102</td>\n",
       "      <td>Aisle</td>\n",
       "      <td>No</td>\n",
       "      <td>Clothing</td>\n",
       "      <td>No</td>\n",
       "      <td>2823</td>\n",
       "      <td>BASIC PUFFER JACKET</td>\n",
       "      <td>19.99</td>\n",
       "      <td>USD</td>\n",
       "      <td>jackets</td>\n",
       "      <td>MAN</td>\n",
       "      <td>56431.77</td>\n",
       "    </tr>\n",
       "    <tr>\n",
       "      <th>1</th>\n",
       "      <td>188771</td>\n",
       "      <td>Aisle</td>\n",
       "      <td>No</td>\n",
       "      <td>Clothing</td>\n",
       "      <td>No</td>\n",
       "      <td>654</td>\n",
       "      <td>TUXEDO JACKET</td>\n",
       "      <td>169.00</td>\n",
       "      <td>USD</td>\n",
       "      <td>jackets</td>\n",
       "      <td>MAN</td>\n",
       "      <td>110526.00</td>\n",
       "    </tr>\n",
       "    <tr>\n",
       "      <th>2</th>\n",
       "      <td>180176</td>\n",
       "      <td>End-cap</td>\n",
       "      <td>Yes</td>\n",
       "      <td>Clothing</td>\n",
       "      <td>Yes</td>\n",
       "      <td>2220</td>\n",
       "      <td>SLIM FIT SUIT JACKET</td>\n",
       "      <td>129.00</td>\n",
       "      <td>USD</td>\n",
       "      <td>jackets</td>\n",
       "      <td>MAN</td>\n",
       "      <td>286380.00</td>\n",
       "    </tr>\n",
       "    <tr>\n",
       "      <th>3</th>\n",
       "      <td>112917</td>\n",
       "      <td>Aisle</td>\n",
       "      <td>Yes</td>\n",
       "      <td>Clothing</td>\n",
       "      <td>Yes</td>\n",
       "      <td>1568</td>\n",
       "      <td>STRETCH SUIT JACKET</td>\n",
       "      <td>129.00</td>\n",
       "      <td>USD</td>\n",
       "      <td>jackets</td>\n",
       "      <td>MAN</td>\n",
       "      <td>202272.00</td>\n",
       "    </tr>\n",
       "    <tr>\n",
       "      <th>4</th>\n",
       "      <td>192936</td>\n",
       "      <td>End-cap</td>\n",
       "      <td>No</td>\n",
       "      <td>Clothing</td>\n",
       "      <td>Yes</td>\n",
       "      <td>2942</td>\n",
       "      <td>DOUBLE FACED JACKET</td>\n",
       "      <td>139.00</td>\n",
       "      <td>USD</td>\n",
       "      <td>jackets</td>\n",
       "      <td>MAN</td>\n",
       "      <td>408938.00</td>\n",
       "    </tr>\n",
       "  </tbody>\n",
       "</table>\n",
       "</div>"
      ],
      "text/plain": [
       "   product_id product_position Promotion product_category seasonal  \\\n",
       "0      185102            Aisle        No         Clothing       No   \n",
       "1      188771            Aisle        No         Clothing       No   \n",
       "2      180176          End-cap       Yes         Clothing      Yes   \n",
       "3      112917            Aisle       Yes         Clothing      Yes   \n",
       "4      192936          End-cap        No         Clothing      Yes   \n",
       "\n",
       "   sales_volume                  name   price currency product_type section  \\\n",
       "0          2823   BASIC PUFFER JACKET   19.99      USD      jackets     MAN   \n",
       "1           654         TUXEDO JACKET  169.00      USD      jackets     MAN   \n",
       "2          2220  SLIM FIT SUIT JACKET  129.00      USD      jackets     MAN   \n",
       "3          1568   STRETCH SUIT JACKET  129.00      USD      jackets     MAN   \n",
       "4          2942   DOUBLE FACED JACKET  139.00      USD      jackets     MAN   \n",
       "\n",
       "   total_price  \n",
       "0     56431.77  \n",
       "1    110526.00  \n",
       "2    286380.00  \n",
       "3    202272.00  \n",
       "4    408938.00  "
      ]
     },
     "execution_count": 83,
     "metadata": {},
     "output_type": "execute_result"
    }
   ],
   "source": [
    "zara_sales_df.head()"
   ]
  },
  {
   "cell_type": "code",
   "execution_count": 85,
   "id": "f9b5fe0b-41dd-4bd4-9e79-2ff0f7e0f99e",
   "metadata": {},
   "outputs": [
    {
     "data": {
      "text/plain": [
       "<pandas.core.groupby.generic.DataFrameGroupBy object at 0x7f8d77537550>"
      ]
     },
     "execution_count": 85,
     "metadata": {},
     "output_type": "execute_result"
    }
   ],
   "source": [
    "# Here let's group both sections of gender\n",
    "zara_sales_df.groupby('section')"
   ]
  },
  {
   "cell_type": "code",
   "execution_count": 88,
   "id": "52282f40-c156-430a-8784-69f92e93273e",
   "metadata": {},
   "outputs": [
    {
     "data": {
      "text/plain": [
       "section\n",
       "MAN      394361\n",
       "WOMAN     63374\n",
       "Name: sales_volume, dtype: int64"
      ]
     },
     "execution_count": 88,
     "metadata": {},
     "output_type": "execute_result"
    }
   ],
   "source": [
    "#Let's find the sum of sales against the section of users\n",
    "sales_by_section_wise = zara_sales_df.groupby('section')['sales_volume'].sum()\n",
    "sales_by_section_wise"
   ]
  },
  {
   "cell_type": "code",
   "execution_count": 91,
   "id": "67580adc-5ac9-4072-bfa3-4f6236e53bc0",
   "metadata": {},
   "outputs": [
    {
     "data": {
      "image/png": "[encoded data removed]",
      "text/plain": [
       "<Figure size 1000x800 with 1 Axes>"
      ]
     },
     "metadata": {},
     "output_type": "display_data"
    }
   ],
   "source": [
    "# Plotting\n",
    "plt.figure(figsize=(10, 8))\n",
    "sales_by_section_wise.plot(kind='pie', autopct='%.1f%%', colors=['skyblue', 'blue'])\n",
    "plt.title('Sales Volume Distribution by Store Section', fontsize= 16)\n",
    "plt.ylabel(' ')       #rechanging the y label to blank as default populated as sales_volume\n",
    "plt.show()"
   ]
  },
  {
   "cell_type": "code",
   "execution_count": null,
   "id": "4e2ee344-06b9-4da0-bd70-8e871424d61e",
   "metadata": {},
   "outputs": [],
   "source": []
  },
  {
   "cell_type": "markdown",
   "id": "df8e7405-2499-4da1-ad9f-b8d11af9c239",
   "metadata": {},
   "source": [
    "2. Which product has highest average sales revenue"
   ]
  },
  {
   "cell_type": "code",
   "execution_count": null,
   "id": "55ae6a3c-2cef-4252-ba24-e4d37d2c428e",
   "metadata": {},
   "outputs": [],
   "source": [
    "# Lets group by the data according to \"product_type\" column"
   ]
  },
  {
   "cell_type": "code",
   "execution_count": 76,
   "id": "65350f70-a254-4f31-89b8-7291e1a4d8f7",
   "metadata": {},
   "outputs": [
    {
     "data": {
      "text/plain": [
       "<pandas.core.groupby.generic.DataFrameGroupBy object at 0x7f8d7664a0d0>"
      ]
     },
     "execution_count": 76,
     "metadata": {},
     "output_type": "execute_result"
    }
   ],
   "source": [
    "zara_sales_df.groupby('product_type')"
   ]
  },
  {
   "cell_type": "code",
   "execution_count": null,
   "id": "f8f4d14d-5f69-45f7-9be0-5d093d74ee23",
   "metadata": {},
   "outputs": [],
   "source": []
  },
  {
   "cell_type": "code",
   "execution_count": 81,
   "id": "75843337-cd99-4dfb-8efb-13b64f5bcc7c",
   "metadata": {},
   "outputs": [
    {
     "data": {
      "text/plain": [
       "product_type\n",
       "jackets     189530.315612\n",
       "jeans       108048.156250\n",
       "shoes       121123.794516\n",
       "sweaters     99771.499512\n",
       "t-shirts    115525.195312\n",
       "Name: total_price, dtype: float64"
      ]
     },
     "execution_count": 81,
     "metadata": {},
     "output_type": "execute_result"
    }
   ],
   "source": [
    "x= zara_sales_df.groupby('product_type')['total_price'].mean()\n",
    "x"
   ]
  },
  {
   "cell_type": "code",
   "execution_count": 80,
   "id": "f99fb8a7-9795-4753-a9e2-78f10ae75b4e",
   "metadata": {},
   "outputs": [
    {
     "data": {
      "image/png": "[encoded data removed]",
      "text/plain": [
       "<Figure size 800x600 with 1 Axes>"
      ]
     },
     "metadata": {},
     "output_type": "display_data"
    }
   ],
   "source": [
    "plt.figure(figsize=(8, 6))\n",
    "a.plot(kind='bar', color='blue')\n",
    "plt.title('Average Revenue Volume by Product Type')\n",
    "plt.xlabel('Product Type')\n",
    "plt.ylabel('Average Revenue')\n",
    "plt.show()"
   ]
  },
  {
   "cell_type": "code",
   "execution_count": 82,
   "id": "4d7cb8ab-507b-4905-928d-4f6e46a50d55",
   "metadata": {},
   "outputs": [
    {
     "data": {
      "image/png": "[encoded data removed]",
      "text/plain": [
       "<Figure size 800x600 with 1 Axes>"
      ]
     },
     "metadata": {},
     "output_type": "display_data"
    }
   ],
   "source": [
    "plt.figure(figsize=(8, 6))\n",
    "a.plot(kind='line', color='blue')\n",
    "plt.title('Average Revenue Volume by Product Type')\n",
    "plt.xlabel('Product Type')\n",
    "plt.ylabel('Average Revenue')\n",
    "plt.show()"
   ]
  },
  {
   "cell_type": "code",
   "execution_count": null,
   "id": "e2dcfb49-211c-4955-8ba3-d3486a695842",
   "metadata": {},
   "outputs": [],
   "source": []
  },
  {
   "cell_type": "markdown",
   "id": "6f4e55df-d5bb-4fea-882d-6e13dbb6bdd3",
   "metadata": {},
   "source": [
    "3. Analyzing the sales volumes based on product position"
   ]
  },
  {
   "cell_type": "code",
   "execution_count": 92,
   "id": "236770b5-e589-4939-aae5-29b835b83128",
   "metadata": {},
   "outputs": [
    {
     "data": {
      "text/html": [
       "<div>\n",
       "<style scoped>\n",
       "    .dataframe tbody tr th:only-of-type {\n",
       "        vertical-align: middle;\n",
       "    }\n",
       "\n",
       "    .dataframe tbody tr th {\n",
       "        vertical-align: top;\n",
       "    }\n",
       "\n",
       "    .dataframe thead th {\n",
       "        text-align: right;\n",
       "    }\n",
       "</style>\n",
       "<table border=\"1\" class=\"dataframe\">\n",
       "  <thead>\n",
       "    <tr style=\"text-align: right;\">\n",
       "      <th></th>\n",
       "      <th>product_id</th>\n",
       "      <th>product_position</th>\n",
       "      <th>Promotion</th>\n",
       "      <th>product_category</th>\n",
       "      <th>seasonal</th>\n",
       "      <th>sales_volume</th>\n",
       "      <th>name</th>\n",
       "      <th>price</th>\n",
       "      <th>currency</th>\n",
       "      <th>product_type</th>\n",
       "      <th>section</th>\n",
       "      <th>total_price</th>\n",
       "    </tr>\n",
       "  </thead>\n",
       "  <tbody>\n",
       "    <tr>\n",
       "      <th>0</th>\n",
       "      <td>185102</td>\n",
       "      <td>Aisle</td>\n",
       "      <td>No</td>\n",
       "      <td>Clothing</td>\n",
       "      <td>No</td>\n",
       "      <td>2823</td>\n",
       "      <td>BASIC PUFFER JACKET</td>\n",
       "      <td>19.99</td>\n",
       "      <td>USD</td>\n",
       "      <td>jackets</td>\n",
       "      <td>MAN</td>\n",
       "      <td>56431.77</td>\n",
       "    </tr>\n",
       "    <tr>\n",
       "      <th>1</th>\n",
       "      <td>188771</td>\n",
       "      <td>Aisle</td>\n",
       "      <td>No</td>\n",
       "      <td>Clothing</td>\n",
       "      <td>No</td>\n",
       "      <td>654</td>\n",
       "      <td>TUXEDO JACKET</td>\n",
       "      <td>169.00</td>\n",
       "      <td>USD</td>\n",
       "      <td>jackets</td>\n",
       "      <td>MAN</td>\n",
       "      <td>110526.00</td>\n",
       "    </tr>\n",
       "    <tr>\n",
       "      <th>2</th>\n",
       "      <td>180176</td>\n",
       "      <td>End-cap</td>\n",
       "      <td>Yes</td>\n",
       "      <td>Clothing</td>\n",
       "      <td>Yes</td>\n",
       "      <td>2220</td>\n",
       "      <td>SLIM FIT SUIT JACKET</td>\n",
       "      <td>129.00</td>\n",
       "      <td>USD</td>\n",
       "      <td>jackets</td>\n",
       "      <td>MAN</td>\n",
       "      <td>286380.00</td>\n",
       "    </tr>\n",
       "    <tr>\n",
       "      <th>3</th>\n",
       "      <td>112917</td>\n",
       "      <td>Aisle</td>\n",
       "      <td>Yes</td>\n",
       "      <td>Clothing</td>\n",
       "      <td>Yes</td>\n",
       "      <td>1568</td>\n",
       "      <td>STRETCH SUIT JACKET</td>\n",
       "      <td>129.00</td>\n",
       "      <td>USD</td>\n",
       "      <td>jackets</td>\n",
       "      <td>MAN</td>\n",
       "      <td>202272.00</td>\n",
       "    </tr>\n",
       "    <tr>\n",
       "      <th>4</th>\n",
       "      <td>192936</td>\n",
       "      <td>End-cap</td>\n",
       "      <td>No</td>\n",
       "      <td>Clothing</td>\n",
       "      <td>Yes</td>\n",
       "      <td>2942</td>\n",
       "      <td>DOUBLE FACED JACKET</td>\n",
       "      <td>139.00</td>\n",
       "      <td>USD</td>\n",
       "      <td>jackets</td>\n",
       "      <td>MAN</td>\n",
       "      <td>408938.00</td>\n",
       "    </tr>\n",
       "  </tbody>\n",
       "</table>\n",
       "</div>"
      ],
      "text/plain": [
       "   product_id product_position Promotion product_category seasonal  \\\n",
       "0      185102            Aisle        No         Clothing       No   \n",
       "1      188771            Aisle        No         Clothing       No   \n",
       "2      180176          End-cap       Yes         Clothing      Yes   \n",
       "3      112917            Aisle       Yes         Clothing      Yes   \n",
       "4      192936          End-cap        No         Clothing      Yes   \n",
       "\n",
       "   sales_volume                  name   price currency product_type section  \\\n",
       "0          2823   BASIC PUFFER JACKET   19.99      USD      jackets     MAN   \n",
       "1           654         TUXEDO JACKET  169.00      USD      jackets     MAN   \n",
       "2          2220  SLIM FIT SUIT JACKET  129.00      USD      jackets     MAN   \n",
       "3          1568   STRETCH SUIT JACKET  129.00      USD      jackets     MAN   \n",
       "4          2942   DOUBLE FACED JACKET  139.00      USD      jackets     MAN   \n",
       "\n",
       "   total_price  \n",
       "0     56431.77  \n",
       "1    110526.00  \n",
       "2    286380.00  \n",
       "3    202272.00  \n",
       "4    408938.00  "
      ]
     },
     "execution_count": 92,
     "metadata": {},
     "output_type": "execute_result"
    }
   ],
   "source": [
    "zara_sales_df.head()"
   ]
  },
  {
   "cell_type": "code",
   "execution_count": 96,
   "id": "258160ef-8083-4663-82dd-4c36196fb30c",
   "metadata": {},
   "outputs": [
    {
     "data": {
      "text/plain": [
       "<pandas.core.groupby.generic.DataFrameGroupBy object at 0x7f8d78f83a00>"
      ]
     },
     "execution_count": 96,
     "metadata": {},
     "output_type": "execute_result"
    }
   ],
   "source": [
    "# Group by the data by product positoning\n",
    "zara_sales_df.groupby('product_position')"
   ]
  },
  {
   "cell_type": "code",
   "execution_count": 98,
   "id": "081ad605-fbbc-4968-b79c-f6a705e8d47a",
   "metadata": {},
   "outputs": [
    {
     "data": {
      "text/plain": [
       "product_position\n",
       "Aisle             177396\n",
       "End-cap           151092\n",
       "Front of Store    129247\n",
       "Name: sales_volume, dtype: int64"
      ]
     },
     "execution_count": 98,
     "metadata": {},
     "output_type": "execute_result"
    }
   ],
   "source": [
    "#selecting sales volume against product positions and suming the values of the sales generated\n",
    "sales_analysis_based_on_product_position= zara_sales_df.groupby('product_position')['sales_volume'].sum()\n",
    "sales_analysis_based_on_product_position"
   ]
  },
  {
   "cell_type": "code",
   "execution_count": 118,
   "id": "a38b43ed-526a-443e-9a95-cf2d91b4b328",
   "metadata": {},
   "outputs": [
    {
     "data": {
      "image/png": "[encoded data removed]",
      "text/plain": [
       "<Figure size 800x600 with 1 Axes>"
      ]
     },
     "metadata": {},
     "output_type": "display_data"
    }
   ],
   "source": [
    "#Plotting\n",
    "plt.figure(figsize=(8, 6))\n",
    "sales_analysis_based_on_product_position.plot(kind='bar', color=['skyblue', 'blue', 'green'])\n",
    "plt.title('Sales Volume by Product Positioning')\n",
    "plt.xlabel('Product Positioning')\n",
    "plt.ylabel('Sales Volume')\n",
    "plt.xticks(rotation = 360)\n",
    "plt.show()"
   ]
  },
  {
   "cell_type": "code",
   "execution_count": null,
   "id": "f4e6b268-ff85-4988-950d-a7bab454e271",
   "metadata": {},
   "outputs": [],
   "source": []
  },
  {
   "cell_type": "markdown",
   "id": "aca25c87-46b1-4799-8e4c-bce424d8a5cb",
   "metadata": {},
   "source": [
    "4. How revenue is influenced by promotions?"
   ]
  },
  {
   "cell_type": "code",
   "execution_count": 101,
   "id": "060e0860-6f24-4e93-87bb-11e8b3d605b7",
   "metadata": {},
   "outputs": [
    {
     "data": {
      "text/html": [
       "<div>\n",
       "<style scoped>\n",
       "    .dataframe tbody tr th:only-of-type {\n",
       "        vertical-align: middle;\n",
       "    }\n",
       "\n",
       "    .dataframe tbody tr th {\n",
       "        vertical-align: top;\n",
       "    }\n",
       "\n",
       "    .dataframe thead th {\n",
       "        text-align: right;\n",
       "    }\n",
       "</style>\n",
       "<table border=\"1\" class=\"dataframe\">\n",
       "  <thead>\n",
       "    <tr style=\"text-align: right;\">\n",
       "      <th></th>\n",
       "      <th>product_id</th>\n",
       "      <th>product_position</th>\n",
       "      <th>Promotion</th>\n",
       "      <th>product_category</th>\n",
       "      <th>seasonal</th>\n",
       "      <th>sales_volume</th>\n",
       "      <th>name</th>\n",
       "      <th>price</th>\n",
       "      <th>currency</th>\n",
       "      <th>product_type</th>\n",
       "      <th>section</th>\n",
       "      <th>total_price</th>\n",
       "    </tr>\n",
       "  </thead>\n",
       "  <tbody>\n",
       "    <tr>\n",
       "      <th>0</th>\n",
       "      <td>185102</td>\n",
       "      <td>Aisle</td>\n",
       "      <td>No</td>\n",
       "      <td>Clothing</td>\n",
       "      <td>No</td>\n",
       "      <td>2823</td>\n",
       "      <td>BASIC PUFFER JACKET</td>\n",
       "      <td>19.99</td>\n",
       "      <td>USD</td>\n",
       "      <td>jackets</td>\n",
       "      <td>MAN</td>\n",
       "      <td>56431.77</td>\n",
       "    </tr>\n",
       "    <tr>\n",
       "      <th>1</th>\n",
       "      <td>188771</td>\n",
       "      <td>Aisle</td>\n",
       "      <td>No</td>\n",
       "      <td>Clothing</td>\n",
       "      <td>No</td>\n",
       "      <td>654</td>\n",
       "      <td>TUXEDO JACKET</td>\n",
       "      <td>169.00</td>\n",
       "      <td>USD</td>\n",
       "      <td>jackets</td>\n",
       "      <td>MAN</td>\n",
       "      <td>110526.00</td>\n",
       "    </tr>\n",
       "    <tr>\n",
       "      <th>2</th>\n",
       "      <td>180176</td>\n",
       "      <td>End-cap</td>\n",
       "      <td>Yes</td>\n",
       "      <td>Clothing</td>\n",
       "      <td>Yes</td>\n",
       "      <td>2220</td>\n",
       "      <td>SLIM FIT SUIT JACKET</td>\n",
       "      <td>129.00</td>\n",
       "      <td>USD</td>\n",
       "      <td>jackets</td>\n",
       "      <td>MAN</td>\n",
       "      <td>286380.00</td>\n",
       "    </tr>\n",
       "    <tr>\n",
       "      <th>3</th>\n",
       "      <td>112917</td>\n",
       "      <td>Aisle</td>\n",
       "      <td>Yes</td>\n",
       "      <td>Clothing</td>\n",
       "      <td>Yes</td>\n",
       "      <td>1568</td>\n",
       "      <td>STRETCH SUIT JACKET</td>\n",
       "      <td>129.00</td>\n",
       "      <td>USD</td>\n",
       "      <td>jackets</td>\n",
       "      <td>MAN</td>\n",
       "      <td>202272.00</td>\n",
       "    </tr>\n",
       "    <tr>\n",
       "      <th>4</th>\n",
       "      <td>192936</td>\n",
       "      <td>End-cap</td>\n",
       "      <td>No</td>\n",
       "      <td>Clothing</td>\n",
       "      <td>Yes</td>\n",
       "      <td>2942</td>\n",
       "      <td>DOUBLE FACED JACKET</td>\n",
       "      <td>139.00</td>\n",
       "      <td>USD</td>\n",
       "      <td>jackets</td>\n",
       "      <td>MAN</td>\n",
       "      <td>408938.00</td>\n",
       "    </tr>\n",
       "  </tbody>\n",
       "</table>\n",
       "</div>"
      ],
      "text/plain": [
       "   product_id product_position Promotion product_category seasonal  \\\n",
       "0      185102            Aisle        No         Clothing       No   \n",
       "1      188771            Aisle        No         Clothing       No   \n",
       "2      180176          End-cap       Yes         Clothing      Yes   \n",
       "3      112917            Aisle       Yes         Clothing      Yes   \n",
       "4      192936          End-cap        No         Clothing      Yes   \n",
       "\n",
       "   sales_volume                  name   price currency product_type section  \\\n",
       "0          2823   BASIC PUFFER JACKET   19.99      USD      jackets     MAN   \n",
       "1           654         TUXEDO JACKET  169.00      USD      jackets     MAN   \n",
       "2          2220  SLIM FIT SUIT JACKET  129.00      USD      jackets     MAN   \n",
       "3          1568   STRETCH SUIT JACKET  129.00      USD      jackets     MAN   \n",
       "4          2942   DOUBLE FACED JACKET  139.00      USD      jackets     MAN   \n",
       "\n",
       "   total_price  \n",
       "0     56431.77  \n",
       "1    110526.00  \n",
       "2    286380.00  \n",
       "3    202272.00  \n",
       "4    408938.00  "
      ]
     },
     "execution_count": 101,
     "metadata": {},
     "output_type": "execute_result"
    }
   ],
   "source": [
    "zara_sales_df.head()"
   ]
  },
  {
   "cell_type": "code",
   "execution_count": 102,
   "id": "50d27db7-9e0b-4cab-94b6-6836838c82aa",
   "metadata": {},
   "outputs": [
    {
     "data": {
      "text/plain": [
       "No     132\n",
       "Yes    119\n",
       "Name: Promotion, dtype: int64"
      ]
     },
     "execution_count": 102,
     "metadata": {},
     "output_type": "execute_result"
    }
   ],
   "source": [
    "#fetching count to see how many products we promoted\n",
    "zara_sales_df['Promotion'].value_counts()"
   ]
  },
  {
   "cell_type": "code",
   "execution_count": 105,
   "id": "5cf5e8d5-7d58-455a-823e-cf3638f4a62d",
   "metadata": {},
   "outputs": [
    {
     "data": {
      "text/plain": [
       "Promotion\n",
       "No     18994089.58\n",
       "Yes    19757284.90\n",
       "Name: total_price, dtype: float64"
      ]
     },
     "execution_count": 105,
     "metadata": {},
     "output_type": "execute_result"
    }
   ],
   "source": [
    "# Now lets calculate the revenue against each product which was promoted or not promoted \n",
    "Revenue_after_promotion = zara_sales_df.groupby('Promotion')['total_price'].sum()\n",
    "Revenue_after_promotion"
   ]
  },
  {
   "cell_type": "code",
   "execution_count": 119,
   "id": "876e1095-b2c2-47e4-9aba-c5c93c09d9a4",
   "metadata": {},
   "outputs": [
    {
     "data": {
      "image/png": "[encoded data removed]",
      "text/plain": [
       "<Figure size 640x480 with 1 Axes>"
      ]
     },
     "metadata": {},
     "output_type": "display_data"
    }
   ],
   "source": [
    "# Pie chart\n",
    "colors= ['blue','skyblue'] #source:https://htmlcolorcodes.com/\n",
    "Revenue_after_promotion.plot(kind ='pie',autopct='%.1f%%', colors=colors)\n",
    "plt.title('Promotion Influence on Revenue')\n",
    "plt.ylabel(' ')\n",
    "plt.show()"
   ]
  },
  {
   "cell_type": "code",
   "execution_count": null,
   "id": "9b9f0d37-1f0f-4789-a9b2-468e32d5a8f5",
   "metadata": {},
   "outputs": [],
   "source": [
    "5. Analysing the pricing range most preferred by customers?"
   ]
  },
  {
   "cell_type": "code",
   "execution_count": 109,
   "id": "0eb2bac6-bcc0-4af6-8dff-ecf1bbd2f15d",
   "metadata": {},
   "outputs": [
    {
     "data": {
      "text/html": [
       "<div>\n",
       "<style scoped>\n",
       "    .dataframe tbody tr th:only-of-type {\n",
       "        vertical-align: middle;\n",
       "    }\n",
       "\n",
       "    .dataframe tbody tr th {\n",
       "        vertical-align: top;\n",
       "    }\n",
       "\n",
       "    .dataframe thead th {\n",
       "        text-align: right;\n",
       "    }\n",
       "</style>\n",
       "<table border=\"1\" class=\"dataframe\">\n",
       "  <thead>\n",
       "    <tr style=\"text-align: right;\">\n",
       "      <th></th>\n",
       "      <th>product_id</th>\n",
       "      <th>product_position</th>\n",
       "      <th>Promotion</th>\n",
       "      <th>product_category</th>\n",
       "      <th>seasonal</th>\n",
       "      <th>sales_volume</th>\n",
       "      <th>name</th>\n",
       "      <th>price</th>\n",
       "      <th>currency</th>\n",
       "      <th>product_type</th>\n",
       "      <th>section</th>\n",
       "      <th>total_price</th>\n",
       "    </tr>\n",
       "  </thead>\n",
       "  <tbody>\n",
       "    <tr>\n",
       "      <th>0</th>\n",
       "      <td>185102</td>\n",
       "      <td>Aisle</td>\n",
       "      <td>No</td>\n",
       "      <td>Clothing</td>\n",
       "      <td>No</td>\n",
       "      <td>2823</td>\n",
       "      <td>BASIC PUFFER JACKET</td>\n",
       "      <td>19.99</td>\n",
       "      <td>USD</td>\n",
       "      <td>jackets</td>\n",
       "      <td>MAN</td>\n",
       "      <td>56431.77</td>\n",
       "    </tr>\n",
       "    <tr>\n",
       "      <th>1</th>\n",
       "      <td>188771</td>\n",
       "      <td>Aisle</td>\n",
       "      <td>No</td>\n",
       "      <td>Clothing</td>\n",
       "      <td>No</td>\n",
       "      <td>654</td>\n",
       "      <td>TUXEDO JACKET</td>\n",
       "      <td>169.00</td>\n",
       "      <td>USD</td>\n",
       "      <td>jackets</td>\n",
       "      <td>MAN</td>\n",
       "      <td>110526.00</td>\n",
       "    </tr>\n",
       "    <tr>\n",
       "      <th>2</th>\n",
       "      <td>180176</td>\n",
       "      <td>End-cap</td>\n",
       "      <td>Yes</td>\n",
       "      <td>Clothing</td>\n",
       "      <td>Yes</td>\n",
       "      <td>2220</td>\n",
       "      <td>SLIM FIT SUIT JACKET</td>\n",
       "      <td>129.00</td>\n",
       "      <td>USD</td>\n",
       "      <td>jackets</td>\n",
       "      <td>MAN</td>\n",
       "      <td>286380.00</td>\n",
       "    </tr>\n",
       "    <tr>\n",
       "      <th>3</th>\n",
       "      <td>112917</td>\n",
       "      <td>Aisle</td>\n",
       "      <td>Yes</td>\n",
       "      <td>Clothing</td>\n",
       "      <td>Yes</td>\n",
       "      <td>1568</td>\n",
       "      <td>STRETCH SUIT JACKET</td>\n",
       "      <td>129.00</td>\n",
       "      <td>USD</td>\n",
       "      <td>jackets</td>\n",
       "      <td>MAN</td>\n",
       "      <td>202272.00</td>\n",
       "    </tr>\n",
       "    <tr>\n",
       "      <th>4</th>\n",
       "      <td>192936</td>\n",
       "      <td>End-cap</td>\n",
       "      <td>No</td>\n",
       "      <td>Clothing</td>\n",
       "      <td>Yes</td>\n",
       "      <td>2942</td>\n",
       "      <td>DOUBLE FACED JACKET</td>\n",
       "      <td>139.00</td>\n",
       "      <td>USD</td>\n",
       "      <td>jackets</td>\n",
       "      <td>MAN</td>\n",
       "      <td>408938.00</td>\n",
       "    </tr>\n",
       "  </tbody>\n",
       "</table>\n",
       "</div>"
      ],
      "text/plain": [
       "   product_id product_position Promotion product_category seasonal  \\\n",
       "0      185102            Aisle        No         Clothing       No   \n",
       "1      188771            Aisle        No         Clothing       No   \n",
       "2      180176          End-cap       Yes         Clothing      Yes   \n",
       "3      112917            Aisle       Yes         Clothing      Yes   \n",
       "4      192936          End-cap        No         Clothing      Yes   \n",
       "\n",
       "   sales_volume                  name   price currency product_type section  \\\n",
       "0          2823   BASIC PUFFER JACKET   19.99      USD      jackets     MAN   \n",
       "1           654         TUXEDO JACKET  169.00      USD      jackets     MAN   \n",
       "2          2220  SLIM FIT SUIT JACKET  129.00      USD      jackets     MAN   \n",
       "3          1568   STRETCH SUIT JACKET  129.00      USD      jackets     MAN   \n",
       "4          2942   DOUBLE FACED JACKET  139.00      USD      jackets     MAN   \n",
       "\n",
       "   total_price  \n",
       "0     56431.77  \n",
       "1    110526.00  \n",
       "2    286380.00  \n",
       "3    202272.00  \n",
       "4    408938.00  "
      ]
     },
     "execution_count": 109,
     "metadata": {},
     "output_type": "execute_result"
    }
   ],
   "source": [
    "zara_sales_df.head()"
   ]
  },
  {
   "cell_type": "code",
   "execution_count": 112,
   "id": "777045e3-4653-4c9b-b1a7-9a93766051bb",
   "metadata": {},
   "outputs": [
    {
     "data": {
      "text/plain": [
       "89.9     39\n",
       "69.9     35\n",
       "109.0    26\n",
       "59.9     18\n",
       "49.9     18\n",
       "129.0    14\n",
       "39.9     14\n",
       "45.9     13\n",
       "169.0    12\n",
       "139.0    10\n",
       "Name: price, dtype: int64"
      ]
     },
     "execution_count": 112,
     "metadata": {},
     "output_type": "execute_result"
    }
   ],
   "source": [
    "# checking the highest product price range\n",
    "zara_sales_df['price'].value_counts().head(10)"
   ]
  },
  {
   "cell_type": "code",
   "execution_count": 115,
   "id": "ab25ed79-384a-41ac-92c1-2220c674a488",
   "metadata": {},
   "outputs": [
    {
     "data": {
      "text/plain": [
       "price\n",
       "7.99       3285\n",
       "9.99       5047\n",
       "12.99      9241\n",
       "19.90      2646\n",
       "19.99     12878\n",
       "27.90      4739\n",
       "29.90      1831\n",
       "29.99      2929\n",
       "35.90      4531\n",
       "39.90     27669\n",
       "45.90     19574\n",
       "47.90      7939\n",
       "49.90     25552\n",
       "59.90     32592\n",
       "69.90     64865\n",
       "69.99       952\n",
       "79.90     16575\n",
       "89.90     73292\n",
       "99.90     12277\n",
       "109.00    43434\n",
       "129.00    29734\n",
       "139.00    17360\n",
       "159.00    11234\n",
       "169.00    19135\n",
       "189.00     2366\n",
       "299.00     3469\n",
       "349.00     1860\n",
       "439.00      729\n",
       "Name: sales_volume, dtype: int64"
      ]
     },
     "execution_count": 115,
     "metadata": {},
     "output_type": "execute_result"
    }
   ],
   "source": [
    "#checking the sum of sales volume generated based on the product pricing \n",
    "s=zara_sales_df.groupby('price')['sales_volume'].sum()\n",
    "s"
   ]
  },
  {
   "cell_type": "code",
   "execution_count": 116,
   "id": "10767ba6-9b36-4913-95ce-5f2919b14ed7",
   "metadata": {},
   "outputs": [
    {
     "data": {
      "image/png": "[encoded data removed]",
      "text/plain": [
       "<Figure size 1000x600 with 1 Axes>"
      ]
     },
     "metadata": {},
     "output_type": "display_data"
    }
   ],
   "source": [
    "#Plotting\n",
    "plt.figure(figsize=(10, 6))\n",
    "\n",
    "s.plot(kind= 'line')\n",
    "\n",
    "plt.title('Sales Volume by Price Range')\n",
    "plt.xlabel('Price Range')\n",
    "plt.ylabel('Sales Volume')\n",
    "plt.legend()\n",
    "plt.show()"
   ]
  },
  {
   "cell_type": "code",
   "execution_count": null,
   "id": "6fbf5234-56cc-4b87-86c5-2299b9cb335c",
   "metadata": {},
   "outputs": [],
   "source": []
  },
  {
   "cell_type": "code",
   "execution_count": 117,
   "id": "96229db6-a4f5-48ae-9351-03d008795cfd",
   "metadata": {},
   "outputs": [
    {
     "data": {
      "text/plain": [
       "price\n",
       "89.9     73292\n",
       "69.9     64865\n",
       "109.0    43434\n",
       "59.9     32592\n",
       "129.0    29734\n",
       "Name: sales_volume, dtype: int64"
      ]
     },
     "execution_count": 117,
     "metadata": {},
     "output_type": "execute_result"
    }
   ],
   "source": [
    "s1=df.groupby('price')['sales_volume'].sum().sort_values(ascending = False).head()\n",
    "s1"
   ]
  },
  {
   "cell_type": "code",
   "execution_count": null,
   "id": "b4231716-1f3f-4839-ade6-629501c0e046",
   "metadata": {},
   "outputs": [],
   "source": []
  },
  {
   "cell_type": "markdown",
   "id": "182bbce8-6913-4279-bd78-76e457fca569",
   "metadata": {},
   "source": [
    "Overall Analysis\n",
    "\n",
    "Out of all the products on store jackets are the major contibutor towards the revenue\n",
    "\n",
    "Based on the positioning of products highest number of sales generated were thorugh products placed as aisle\n",
    "\n",
    "Based on Product Position- men preferred to choose from the aisle whereas women chose to shop from the end-cap\n",
    "\n",
    "Revneue generated from products is $19757284.90 which is 51% of the total revenue\n",
    "\n",
    "Consumers preferred shopping from the price range of  60.00 to 130.00"
   ]
  },
  {
   "cell_type": "code",
   "execution_count": null,
   "id": "88296502-7776-48eb-b6e0-7436e126de23",
   "metadata": {},
   "outputs": [],
   "source": []
  }
 ],
 "metadata": {
  "kernelspec": {
   "display_name": "Python 3 (ipykernel)",
   "language": "python",
   "name": "python3"
  },
  "language_info": {
   "codemirror_mode": {
    "name": "ipython",
    "version": 3
   },
   "file_extension": ".py",
   "mimetype": "text/x-python",
   "name": "python",
   "nbconvert_exporter": "python",
   "pygments_lexer": "ipython3",
   "version": "3.9.13"
  }
 },
 "nbformat": 4,
 "nbformat_minor": 5
}
